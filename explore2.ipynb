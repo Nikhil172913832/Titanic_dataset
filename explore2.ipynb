{
 "cells": [
  {
   "cell_type": "code",
   "execution_count": 2,
   "metadata": {},
   "outputs": [],
   "source": [
    "import pandas as pd"
   ]
  },
  {
   "cell_type": "code",
   "execution_count": 3,
   "metadata": {},
   "outputs": [
    {
     "name": "stdout",
     "output_type": "stream",
     "text": [
      "Index(['PassengerId', 'Survived', 'Pclass', 'Name', 'Sex', 'Age', 'SibSp',\n",
      "       'Parch', 'Ticket', 'Fare', 'Cabin', 'Embarked'],\n",
      "      dtype='object')\n"
     ]
    }
   ],
   "source": [
    "df = pd.read_csv('train.csv')\n",
    "print(df.columns)"
   ]
  },
  {
   "cell_type": "code",
   "execution_count": 4,
   "metadata": {},
   "outputs": [
    {
     "name": "stdout",
     "output_type": "stream",
     "text": [
      "0                                Braund, Mr. Owen Harris\n",
      "1      Cumings, Mrs. John Bradley (Florence Briggs Th...\n",
      "2                                 Heikkinen, Miss. Laina\n",
      "3           Futrelle, Mrs. Jacques Heath (Lily May Peel)\n",
      "4                               Allen, Mr. William Henry\n",
      "                             ...                        \n",
      "886                                Montvila, Rev. Juozas\n",
      "887                         Graham, Miss. Margaret Edith\n",
      "888             Johnston, Miss. Catherine Helen \"Carrie\"\n",
      "889                                Behr, Mr. Karl Howell\n",
      "890                                  Dooley, Mr. Patrick\n",
      "Name: Name, Length: 891, dtype: object\n"
     ]
    }
   ],
   "source": [
    "print(df['Name'])"
   ]
  },
  {
   "cell_type": "code",
   "execution_count": 22,
   "metadata": {},
   "outputs": [
    {
     "name": "stdout",
     "output_type": "stream",
     "text": [
      "759    Rothes, the Countess. of (Lucy Noel Martha Dye...\n",
      "Name: Name, dtype: object\n"
     ]
    }
   ],
   "source": [
    "df['Title'] = df['Name'].str.extract(r',\\s([A-Za-z ]+)\\.')\n",
    "hi_names = df[df['Name'].str.contains('the Countess', na=False)]['Name']\n",
    "print(hi_names)"
   ]
  },
  {
   "cell_type": "code",
   "execution_count": 23,
   "metadata": {},
   "outputs": [
    {
     "name": "stdout",
     "output_type": "stream",
     "text": [
      "{'Mr': 517, 'Mrs': 125, 'Miss': 182, 'Master': 40, 'Don': 1, 'Rev': 6, 'Dr': 7, 'Mme': 1, 'Ms': 1, 'Major': 2, 'Lady': 1, 'Sir': 1, 'Mlle': 2, 'Col': 2, 'Capt': 1, 'the Countess': 1, 'Jonkheer': 1}\n",
      "891\n"
     ]
    }
   ],
   "source": [
    "titles = {}\n",
    "for title in df['Title']:\n",
    "    if title in titles:\n",
    "        titles[title] += 1\n",
    "    else:\n",
    "        titles[title] = 1\n",
    "print(titles)\n",
    "count = 0\n",
    "for value in titles.values():\n",
    "    count += value\n",
    "print(count)"
   ]
  },
  {
   "cell_type": "code",
   "execution_count": 24,
   "metadata": {},
   "outputs": [
    {
     "name": "stdout",
     "output_type": "stream",
     "text": [
      "{'Mrs': 99, 'Miss': 127, 'Mr': 81, 'Master': 23, 'Mme': 1, 'Ms': 1, 'Major': 1, 'Lady': 1, 'Sir': 1, 'Dr': 3, 'Mlle': 2, 'Col': 1, 'the Countess': 1}\n"
     ]
    }
   ],
   "source": [
    "titles2 = {}\n",
    "for index, row in df.iterrows():\n",
    "    if(row['Survived'] == 1):\n",
    "        if row['Title'] in titles2:\n",
    "            titles2[row['Title']] += 1\n",
    "        else:\n",
    "            titles2[row['Title']] = 1\n",
    "print(titles2)"
   ]
  },
  {
   "cell_type": "code",
   "execution_count": null,
   "metadata": {},
   "outputs": [],
   "source": []
  }
 ],
 "metadata": {
  "kernelspec": {
   "display_name": ".venv",
   "language": "python",
   "name": "python3"
  },
  "language_info": {
   "codemirror_mode": {
    "name": "ipython",
    "version": 3
   },
   "file_extension": ".py",
   "mimetype": "text/x-python",
   "name": "python",
   "nbconvert_exporter": "python",
   "pygments_lexer": "ipython3",
   "version": "3.12.3"
  }
 },
 "nbformat": 4,
 "nbformat_minor": 2
}
